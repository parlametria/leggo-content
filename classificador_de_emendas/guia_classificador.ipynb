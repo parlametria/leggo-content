{
 "cells": [
  {
   "cell_type": "code",
   "execution_count": 8,
   "metadata": {},
   "outputs": [],
   "source": [
    "import pandas as pd\n",
    "import os\n",
    "from sklearn.feature_extraction.text import CountVectorizer\n",
    "from sklearn.svm import SVC\n",
    "from sklearn.model_selection import train_test_split\n",
    "from sklearn.metrics import confusion_matrix\n",
    "from sklearn.pipeline import Pipeline\n",
    "from joblib import dump, load"
   ]
  },
  {
   "cell_type": "markdown",
   "metadata": {},
   "source": [
    "# Processamento dos dados de entrada\n",
    "\n",
    "É criada um dataframe contendo um \"bloco\" por linha onde cada bloco possui um tipo. As colunas contém o texto do bloco e o tipo de emenda do bloco."
   ]
  },
  {
   "cell_type": "code",
   "execution_count": 9,
   "metadata": {},
   "outputs": [],
   "source": [
    "# Processamento dos Dados\n",
    "path = \"../data/tag_files\"\n",
    "\n",
    "\n",
    "tagList = [\"I-\",\"E-\",\"B-\"]\n",
    "files = []\n",
    "for dirpath, dirnames, filenames in os.walk(path):\n",
    "    for filename in filenames:\n",
    "        files.append(os.path.normpath(os.path.join(dirpath,filename)))\n",
    "\n",
    "emendas = pd.DataFrame(columns = ['text','emdType'])\n",
    "tupEmd = []\n",
    "\n",
    "\n",
    "for file in files:\n",
    "    with open(file, encoding = \"utf-8\") as f:\n",
    "        emdTxt = []\n",
    "        previousType = None\n",
    "        for line in f.readlines():\n",
    "            token,emdType = line.split()\n",
    "            if any(x in emdType for x in tagList):\n",
    "                emdType = emdType[2:]\n",
    "            if previousType != emdType and previousType != None:\n",
    "                tupEmd.append([\" \".join(emdTxt), previousType])\n",
    "                emdTxt = []\n",
    "                \n",
    "            emdTxt.append(token)\n",
    "            previousType = emdType\n",
    "        tupEmd.append([\" \".join(emdTxt), emdType])\n",
    "\n",
    "\n",
    "for index in range(len(tupEmd)):\n",
    "    emendas.loc[index,'text'] = tupEmd[index][0]\n",
    "    emendas.loc[index,'emdType'] = tupEmd[index][1]"
   ]
  },
  {
   "cell_type": "markdown",
   "metadata": {},
   "source": [
    "# Classificador de Emendas"
   ]
  },
  {
   "cell_type": "code",
   "execution_count": 10,
   "metadata": {},
   "outputs": [],
   "source": [
    "vectorizer = CountVectorizer()\n",
    "X = vectorizer.fit_transform(emendas['text'])\n",
    "y = emendas['emdType']"
   ]
  },
  {
   "cell_type": "markdown",
   "metadata": {},
   "source": [
    "## Separação das Bases\n",
    "\n",
    "Separa as bases em treinamento e teste. A base de treinamento é usada na criação do modelo e a base de teste é usada para validação do modelo posteriormente."
   ]
  },
  {
   "cell_type": "code",
   "execution_count": 11,
   "metadata": {},
   "outputs": [],
   "source": [
    "X_train, X_test, y_train, y_test = train_test_split(\n",
    "    X, y, test_size=0.33, random_state=42)"
   ]
  },
  {
   "cell_type": "markdown",
   "metadata": {},
   "source": [
    "## Oversampling\n",
    "\n",
    "Foi feito oversampling para gerar novos dados de emendas ADD pois haviam muito poucos casos na base de treino, o que gerava uma baixa acurácia especialmente para essa classe."
   ]
  },
  {
   "cell_type": "code",
   "execution_count": 12,
   "metadata": {},
   "outputs": [],
   "source": [
    "from imblearn.over_sampling import RandomOverSampler\n",
    "\n",
    "ros = RandomOverSampler(random_state=0)\n",
    "X_resampled, y_resampled = ros.fit_resample(X, y)"
   ]
  },
  {
   "cell_type": "markdown",
   "metadata": {},
   "source": [
    "## Criação do Modelo\n",
    "\n",
    "Cria o modelo e mostra a acurácia média obtida"
   ]
  },
  {
   "cell_type": "code",
   "execution_count": 13,
   "metadata": {
    "scrolled": true
   },
   "outputs": [
    {
     "name": "stdout",
     "output_type": "stream",
     "text": [
      "0.8283582089552238\n"
     ]
    }
   ],
   "source": [
    "clf = SVC(gamma = 'auto')\n",
    "clf.fit(X_resampled,y_resampled)\n",
    "\n",
    "print(clf.score(X_test,y_test))"
   ]
  },
  {
   "cell_type": "markdown",
   "metadata": {},
   "source": [
    "## Salvando o modelo treinado\n",
    "\n",
    "\n",
    "O modelo é exportado juntamente com o vectorizer num objeto Pipeline para posterior uso."
   ]
  },
  {
   "cell_type": "code",
   "execution_count": 24,
   "metadata": {},
   "outputs": [
    {
     "data": {
      "text/plain": [
       "['emend_clf_pipe']"
      ]
     },
     "execution_count": 24,
     "metadata": {},
     "output_type": "execute_result"
    }
   ],
   "source": [
    "from joblib import dump,load\n",
    "\n",
    "pipeline = Pipeline([('vectorizer', vectorizer), ('clf_emend', clf)])\n",
    "dump(pipeline,\"emend_clf_pipe\")"
   ]
  },
  {
   "cell_type": "markdown",
   "metadata": {},
   "source": [
    "## Predição e Matriz de Confusão\n",
    "\n",
    "Matriz de confusão mostra nas colunas o tipo da emenda e na linha a previsão feita para o tipo da emenda. Na diagonal portanto temos a quantidade de acertos para cara tipo de emenda."
   ]
  },
  {
   "cell_type": "code",
   "execution_count": 25,
   "metadata": {},
   "outputs": [
    {
     "name": "stdout",
     "output_type": "stream",
     "text": [
      "[[ 7  4  0  0]\n",
      " [ 1 23  0  0]\n",
      " [ 7 10 12  0]\n",
      " [ 0  0  1 69]]\n"
     ]
    }
   ],
   "source": [
    "y_pred = clf.predict(X_test)\n",
    "\n",
    "cm = confusion_matrix(y_pred,y_test, labels = ['ADD','MOD','SUP','O'])\n",
    "print(cm)"
   ]
  },
  {
   "cell_type": "markdown",
   "metadata": {},
   "source": [
    "## Acurácia das Classes\n",
    "\n",
    "Acurácia separada por classe"
   ]
  },
  {
   "cell_type": "code",
   "execution_count": 26,
   "metadata": {},
   "outputs": [
    {
     "name": "stdout",
     "output_type": "stream",
     "text": [
      "[0.63636364 0.95833333 0.4137931  0.98571429]\n"
     ]
    }
   ],
   "source": [
    "cmAcc = cm.astype('float') / cm.sum(axis=1)[:, np.newaxis]\n",
    "\n",
    "print(cmAcc.diagonal())"
   ]
  },
  {
   "cell_type": "code",
   "execution_count": 27,
   "metadata": {},
   "outputs": [],
   "source": [
    "cmDf = pd.DataFrame(cm,columns = ['ADD','MOD','SUP','O'])\n",
    "cmDf['types'] = ['ADD','MOD','SUP','O']"
   ]
  },
  {
   "cell_type": "code",
   "execution_count": 28,
   "metadata": {},
   "outputs": [],
   "source": [
    "cols = cmDf.columns.tolist()\n",
    "cols.insert(0,cols.pop(4))\n",
    "cmDf = cmDf[cols]\n",
    "cmDf['Accuracy'] = cmAcc.diagonal()"
   ]
  },
  {
   "cell_type": "code",
   "execution_count": 29,
   "metadata": {},
   "outputs": [
    {
     "data": {
      "text/html": [
       "<div>\n",
       "<style scoped>\n",
       "    .dataframe tbody tr th:only-of-type {\n",
       "        vertical-align: middle;\n",
       "    }\n",
       "\n",
       "    .dataframe tbody tr th {\n",
       "        vertical-align: top;\n",
       "    }\n",
       "\n",
       "    .dataframe thead th {\n",
       "        text-align: right;\n",
       "    }\n",
       "</style>\n",
       "<table border=\"1\" class=\"dataframe\">\n",
       "  <thead>\n",
       "    <tr style=\"text-align: right;\">\n",
       "      <th></th>\n",
       "      <th>types</th>\n",
       "      <th>ADD</th>\n",
       "      <th>MOD</th>\n",
       "      <th>SUP</th>\n",
       "      <th>O</th>\n",
       "      <th>Accuracy</th>\n",
       "    </tr>\n",
       "  </thead>\n",
       "  <tbody>\n",
       "    <tr>\n",
       "      <th>0</th>\n",
       "      <td>ADD</td>\n",
       "      <td>7</td>\n",
       "      <td>4</td>\n",
       "      <td>0</td>\n",
       "      <td>0</td>\n",
       "      <td>0.636364</td>\n",
       "    </tr>\n",
       "    <tr>\n",
       "      <th>1</th>\n",
       "      <td>MOD</td>\n",
       "      <td>1</td>\n",
       "      <td>23</td>\n",
       "      <td>0</td>\n",
       "      <td>0</td>\n",
       "      <td>0.958333</td>\n",
       "    </tr>\n",
       "    <tr>\n",
       "      <th>2</th>\n",
       "      <td>SUP</td>\n",
       "      <td>7</td>\n",
       "      <td>10</td>\n",
       "      <td>12</td>\n",
       "      <td>0</td>\n",
       "      <td>0.413793</td>\n",
       "    </tr>\n",
       "    <tr>\n",
       "      <th>3</th>\n",
       "      <td>O</td>\n",
       "      <td>0</td>\n",
       "      <td>0</td>\n",
       "      <td>1</td>\n",
       "      <td>69</td>\n",
       "      <td>0.985714</td>\n",
       "    </tr>\n",
       "  </tbody>\n",
       "</table>\n",
       "</div>"
      ],
      "text/plain": [
       "  types  ADD  MOD  SUP   O  Accuracy\n",
       "0   ADD    7    4    0   0  0.636364\n",
       "1   MOD    1   23    0   0  0.958333\n",
       "2   SUP    7   10   12   0  0.413793\n",
       "3     O    0    0    1  69  0.985714"
      ]
     },
     "execution_count": 29,
     "metadata": {},
     "output_type": "execute_result"
    }
   ],
   "source": [
    "cmDf.head()"
   ]
  },
  {
   "cell_type": "markdown",
   "metadata": {},
   "source": [
    "## Output resultados\n",
    "\n",
    "Cria um arquivo .csv para avaliação dos resultados do modelo"
   ]
  },
  {
   "cell_type": "code",
   "execution_count": 20,
   "metadata": {},
   "outputs": [],
   "source": [
    "cmDf.to_csv('../data/results/modelo_classificador_de_emendas/emendasPredResultados.csv')"
   ]
  },
  {
   "cell_type": "markdown",
   "metadata": {},
   "source": [
    "# Output de Emendas\n",
    "\n",
    "Cria um arquivo .csv contendo o tipo de emenda e o tipo previso da emenda."
   ]
  },
  {
   "cell_type": "code",
   "execution_count": 21,
   "metadata": {},
   "outputs": [
    {
     "data": {
      "text/html": [
       "<div>\n",
       "<style scoped>\n",
       "    .dataframe tbody tr th:only-of-type {\n",
       "        vertical-align: middle;\n",
       "    }\n",
       "\n",
       "    .dataframe tbody tr th {\n",
       "        vertical-align: top;\n",
       "    }\n",
       "\n",
       "    .dataframe thead th {\n",
       "        text-align: right;\n",
       "    }\n",
       "</style>\n",
       "<table border=\"1\" class=\"dataframe\">\n",
       "  <thead>\n",
       "    <tr style=\"text-align: right;\">\n",
       "      <th></th>\n",
       "      <th>text</th>\n",
       "      <th>emdType</th>\n",
       "      <th>emdTypePred</th>\n",
       "    </tr>\n",
       "  </thead>\n",
       "  <tbody>\n",
       "    <tr>\n",
       "      <th>70</th>\n",
       "      <td>MPV 870 00040 CONGRESSO NACIONAL ETIQ UETA APR...</td>\n",
       "      <td>O</td>\n",
       "      <td>O</td>\n",
       "    </tr>\n",
       "    <tr>\n",
       "      <th>218</th>\n",
       "      <td>Dê-se , ao artigo 65 da Medida Provisória nº 8...</td>\n",
       "      <td>MOD</td>\n",
       "      <td>MOD</td>\n",
       "    </tr>\n",
       "    <tr>\n",
       "      <th>258</th>\n",
       "      <td>Os Arts . 37 , 38 , 43 e 44 , da Medida Provis...</td>\n",
       "      <td>MOD</td>\n",
       "      <td>MOD</td>\n",
       "    </tr>\n",
       "    <tr>\n",
       "      <th>33</th>\n",
       "      <td>Acrescente-se ao art . 37 da Medida Provisória...</td>\n",
       "      <td>ADD</td>\n",
       "      <td>SUP</td>\n",
       "    </tr>\n",
       "    <tr>\n",
       "      <th>42</th>\n",
       "      <td>MPV 870 00024 COMISSÃO MISTA DA MEDIDA PROVISÓ...</td>\n",
       "      <td>O</td>\n",
       "      <td>O</td>\n",
       "    </tr>\n",
       "  </tbody>\n",
       "</table>\n",
       "</div>"
      ],
      "text/plain": [
       "                                                  text emdType emdTypePred\n",
       "70   MPV 870 00040 CONGRESSO NACIONAL ETIQ UETA APR...       O           O\n",
       "218  Dê-se , ao artigo 65 da Medida Provisória nº 8...     MOD         MOD\n",
       "258  Os Arts . 37 , 38 , 43 e 44 , da Medida Provis...     MOD         MOD\n",
       "33   Acrescente-se ao art . 37 da Medida Provisória...     ADD         SUP\n",
       "42   MPV 870 00024 COMISSÃO MISTA DA MEDIDA PROVISÓ...       O           O"
      ]
     },
     "execution_count": 21,
     "metadata": {},
     "output_type": "execute_result"
    }
   ],
   "source": [
    "addDF = emendas.copy()\n",
    "addDF = addDF.iloc[y_test.index]\n",
    "addDF['emdTypePred'] = y_pred\n",
    "addDF.head()"
   ]
  },
  {
   "cell_type": "code",
   "execution_count": 23,
   "metadata": {},
   "outputs": [],
   "source": [
    "addDF.to_csv('../data/results/modelo_classificador_de_emendas/emendasPred.csv')"
   ]
  }
 ],
 "metadata": {
  "kernelspec": {
   "display_name": "Python 3",
   "language": "python",
   "name": "python3"
  },
  "language_info": {
   "codemirror_mode": {
    "name": "ipython",
    "version": 3
   },
   "file_extension": ".py",
   "mimetype": "text/x-python",
   "name": "python",
   "nbconvert_exporter": "python",
   "pygments_lexer": "ipython3",
   "version": "3.6.9"
  }
 },
 "nbformat": 4,
 "nbformat_minor": 2
}
